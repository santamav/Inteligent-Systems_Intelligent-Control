{
 "cells": [
  {
   "cell_type": "code",
   "execution_count": 89,
   "metadata": {},
   "outputs": [],
   "source": [
    "# Imports\n",
    "import numpy as np\n",
    "from scipy import linalg\n",
    "import matplotlib.pyplot as plt\n",
    "import math\n",
    "from VSM_IBVS import VSM_IBVS as V_IBVS\n",
    "from math import pi\n",
    "np.set_printoptions(linewidth=120, formatter={'float': lambda x: f\"{0:8.4g}\" if abs(x) < 1e-10 else f\"{x:8.4g}\"})\n",
    "\n",
    "\n",
    "from machinevisiontoolbox.base import *\n",
    "from machinevisiontoolbox import *\n",
    "from spatialmath.base import *\n",
    "from spatialmath import *"
   ]
  },
  {
   "cell_type": "markdown",
   "metadata": {},
   "source": [
    "### Dataset generator class"
   ]
  },
  {
   "cell_type": "code",
   "execution_count": 90,
   "metadata": {},
   "outputs": [],
   "source": [
    "class DatasetGenerator:\n",
    "    def __init__(self):\n",
    "        self.iterations = 10#1e4 # 10000 iterations\n",
    "        self.steps = 80 # simulation steps\n",
    "        self.inputs_hist = []\n",
    "        self.outputs_hist = []\n",
    "    \n",
    "    def generate_dataset(self):\n",
    "        for i in range(self.iterations):\n",
    "            # Run the simulation\n",
    "            ibvs = self.run_simulation()\n",
    "            # Update dataset history\n",
    "            self.update_dataset_hist(ibvs)\n",
    "            # Print progress\n",
    "            print(f\"Progress: {i}/{self.iterations}\")\n",
    "            # Print shapes\n",
    "            print(f\"Inputs shape: {np.array(self.inputs_hist).shape}\")\n",
    "            print(f\"Outputs shape: {np.array(self.outputs_hist).shape}\")\n",
    "            \n",
    "        # Print final shapes\n",
    "        self.store_dataset()\n",
    "        \n",
    "    def run_simulation(self):\n",
    "        # Generate random pose\n",
    "        pose = self.generate_random_pose()\n",
    "        # Generate random desired pose\n",
    "        desired_pose = self.generate_random_pose()\n",
    "        # Initialize ibvs\n",
    "        ibvs = self.build_ibvs(pose, desired_pose)\n",
    "        try:\n",
    "            ibvs.run(self.steps)\n",
    "            return ibvs\n",
    "        except:\n",
    "            return self.run_simulation()\n",
    "        \n",
    "    def build_ibvs(self, pose, desired_pose):\n",
    "        # Grid of points in the plane\n",
    "        P = mkgrid(2, side=0.5, pose=SE3.Tz(3));\n",
    "\n",
    "        # desired pose\n",
    "        camera = CentralCamera.Default(pose=desired_pose);\n",
    "        pd = 200 * np.array([[-1, -1, 1, 1], [-1, 1, 1, -1]]) + np.c_[camera.pp]\n",
    "\n",
    "        # Defining the camera with default intrinsic parameters.\n",
    "        camera = CentralCamera.Default(pose=pose);\n",
    "        \n",
    "        return IBVS(camera, P=P, p_d=pd)\n",
    "    \n",
    "    def generate_random_pose(self):\n",
    "        pose = SE3.Rand()\n",
    "        return pose\n",
    "    \n",
    "    def update_dataset_hist(self, ibvs):\n",
    "        # For each point in the history store a new row in the inputs and outputs\n",
    "        for i in range(len(ibvs.history)):\n",
    "            # Initialize an empty list to store the flattened values\n",
    "            hist = []\n",
    "            hist.extend(ibvs.history[i].p.flatten()) # Flatten and extend the list with p values\n",
    "            hist.extend(ibvs.p_star.flatten())       # Flatten and extend the list with p_star values\n",
    "            \n",
    "            # Append the row to the rows list\n",
    "            self.inputs_hist.append(hist)\n",
    "            self.outputs_hist.append(ibvs.history[i].vel.flatten())\n",
    "            \n",
    "    def store_dataset(self):\n",
    "        np.save(\"dataset/inputs.npy\", np.array(self.inputs_hist))\n",
    "        np.save(\"dataset/outputs.npy\", np.array(self.outputs_hist))"
   ]
  },
  {
   "cell_type": "code",
   "execution_count": null,
   "metadata": {},
   "outputs": [],
   "source": [
    "dt_generator = DatasetGenerator()\n",
    "dt_generator.generate_dataset()"
   ]
  },
  {
   "cell_type": "code",
   "execution_count": 93,
   "metadata": {},
   "outputs": [
    {
     "data": {
      "text/plain": [
       "(800, 16)"
      ]
     },
     "execution_count": 93,
     "metadata": {},
     "output_type": "execute_result"
    }
   ],
   "source": [
    "np.array(dt_generator.inputs_hist).shape"
   ]
  }
 ],
 "metadata": {
  "kernelspec": {
   "display_name": "RVC3",
   "language": "python",
   "name": "python3"
  },
  "language_info": {
   "codemirror_mode": {
    "name": "ipython",
    "version": 3
   },
   "file_extension": ".py",
   "mimetype": "text/x-python",
   "name": "python",
   "nbconvert_exporter": "python",
   "pygments_lexer": "ipython3",
   "version": "3.10.9"
  }
 },
 "nbformat": 4,
 "nbformat_minor": 2
}
