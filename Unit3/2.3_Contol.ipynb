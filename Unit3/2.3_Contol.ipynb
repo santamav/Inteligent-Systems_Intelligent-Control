{
 "cells": [
  {
   "cell_type": "markdown",
   "metadata": {},
   "source": [
    "Separate the controller from the actuation/Sensor modules\n",
    "\n",
    "* Make a class for each module.\n",
    "* The controller module should receive the input information and send it as an output."
   ]
  },
  {
   "cell_type": "markdown",
   "metadata": {},
   "source": [
    "Ceck the definition of the PBUS class"
   ]
  }
 ],
 "metadata": {
  "language_info": {
   "name": "python"
  }
 },
 "nbformat": 4,
 "nbformat_minor": 2
}
