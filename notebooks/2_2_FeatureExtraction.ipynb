{
 "cells": [
  {
   "cell_type": "markdown",
   "metadata": {},
   "source": [
    "# 2.2 Feature Extraction\n",
    "#### <font color='gray'>Vicent Santamarta Martinez</font>"
   ]
  },
  {
   "cell_type": "markdown",
   "metadata": {},
   "source": [
    "### Computing the 3d position of a point from the image of two cameras"
   ]
  },
  {
   "cell_type": "markdown",
   "metadata": {},
   "source": [
    "In this exercise we aim to caculate the 3d position of a point P from the images of two cameras. For the sake of the exercise we know the position of the two cameras."
   ]
  },
  {
   "cell_type": "markdown",
   "metadata": {},
   "source": [
    "##### Cameras positions\n",
    "\n",
    "In order to calculate the world position of the point, we need to first have all of the positions (cameras and projections) in the same coordinates space. \n",
    "\n",
    "So the first step will be to calculate the relative pose of Camera 1 over Camera 2. "
   ]
  },
  {
   "cell_type": "markdown",
   "metadata": {},
   "source": [
    "#### Position of the projected points in the 3D world"
   ]
  },
  {
   "cell_type": "markdown",
   "metadata": {},
   "source": [
    "Now that we have the positions of the cameras in the same coordinates space we can start to calculate the position of the points in the image in the 3D world. Because we used the camera 2 as our referece for the coordinates space we will start calculating the position of p² from the image in the camera 2.\n",
    "\n",
    "To do that we need to use the camera specific information. First we calculate x,z coordinates of the camera. For that, we will use the rho (pixel size) value of the camera multiplied by u,v coordinates of the point in the image. The y coordinate will be given by the focal point.\n",
    "\n",
    "Once we have the x,y,z coordinates we need to transport them to the coordinates space of the corresponent camera.\n",
    "\n",
    "With this coordinates, we will already have the world position of p2, for p2 we need to transport it from the camera 1 coordinates space to the camera 2 coordinates space. Once we do this we are readdy to calculate 3d position of point P. "
   ]
  },
  {
   "cell_type": "markdown",
   "metadata": {},
   "source": [
    "### Computing the coordinates for P"
   ]
  },
  {
   "cell_type": "markdown",
   "metadata": {},
   "source": [
    "Now that we have the coordinates for all 4 points we can now proceed to estimate the position of P.\n",
    "\n",
    "For that we will throw a line from camera1 and passes through p1. And another line from camera2 that crosses through p2.\n",
    "\n",
    "Finding the intersection point of the two rays we will now know the coordinates of P in the coordinates space of the camera2 and can apply a transformation to those coordinates to the world space to have P in the original coordinates space."
   ]
  }
 ],
 "metadata": {
  "kernelspec": {
   "display_name": "RVC3",
   "language": "python",
   "name": "python3"
  },
  "language_info": {
   "codemirror_mode": {
    "name": "ipython",
    "version": 3
   },
   "file_extension": ".py",
   "mimetype": "text/x-python",
   "name": "python",
   "nbconvert_exporter": "python",
   "pygments_lexer": "ipython3",
   "version": "3.10.9"
  }
 },
 "nbformat": 4,
 "nbformat_minor": 2
}
